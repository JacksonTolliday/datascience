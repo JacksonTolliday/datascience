{
 "cells": [
  {
   "cell_type": "markdown",
   "metadata": {},
   "source": [
    "# Exercise\n",
    "Find a dataset on the Internet and perform an analysis of your choice using the process outlined in this lesson. Fair warning: real data can be messy and the cleaning example shown here may not be sufficient. There are many, many resources to help you on the Internet since Pandas is very popular. \n",
    "\n",
    "* Import and analyze your dataset.\n",
    "* Include an introduction to your analysis, describe what you are doing and finish with a conclusion using markdown cells.\n",
    "* Commit your notebook, push it to Github, publish on https://nbviewer.jupyter.org and submit a link to the nbviewer page on Schoology.\n"
   ]
  },
  {
   "cell_type": "markdown",
   "metadata": {},
   "source": [
    "# Spotify Song Attributes Analysis\n",
    "\n",
    "The dataset we will use is from an online dataset that lists the characteristics of over 2000 songs. This dataset was put together online [Spotify Song Attributes | Kaggle](https://www.kaggle.com/geomack/spotifyclassification#data.csv) and consists \n",
    "of a wide array of attributes of certain songs (numerically rated). This dataset\n",
    "has been sampled and downloaded from this project and presented \n",
    "as an Excel file at https://docs.google.com/spreadsheets/d/e/2PACX-1vQduW1YD4Bk37o_RbJXD_AUX4JQHYrZ99Lwa_N2d648P5PeUXGfKlTXRqBmfuxQwfwxVfKbHwA9pXS7/pub?output=xlsx.\n",
    "\n",
    "Very little related meta-data is available for this dataset. Fortunately, most of the \n",
    "field names are self-explanatory."
   ]
  },
  {
   "cell_type": "code",
   "execution_count": 1,
   "metadata": {},
   "outputs": [],
   "source": [
    "import matplotlib.pyplot as plt\n",
    "import pandas as pd\n",
    "import numpy as np\n",
    "pd.options.mode.chained_assignment = None  # default='warn'"
   ]
  },
  {
   "cell_type": "code",
   "execution_count": 2,
   "metadata": {},
   "outputs": [],
   "source": [
    "df = pd.read_excel(\"https://docs.google.com/spreadsheets/d/e/2PACX-1vQduW1YD4Bk37o_RbJXD_AUX4JQHYrZ99Lwa_N2d648P5PeUXGfKlTXRqBmfuxQwfwxVfKbHwA9pXS7/pub?output=xlsx\")"
   ]
  },
  {
   "cell_type": "markdown",
   "metadata": {},
   "source": [
    "# What is being analyzed in the Dataset?\n",
    "I believe that the \"instrumentalness\" of a song and it's \"speechiness\" are most likely inversely related: as the instrumentalness goes up, the speechiness will most likely go down (the same is true of the inverse). I will analyze this dataset in order to see whether or not my assumption is true."
   ]
  },
  {
   "cell_type": "code",
   "execution_count": 3,
   "metadata": {},
   "outputs": [],
   "source": [
    "dfspeechinst = df[['instrumentalness', 'speechiness']]"
   ]
  },
  {
   "cell_type": "code",
   "execution_count": 4,
   "metadata": {},
   "outputs": [
    {
     "data": {
      "text/plain": [
       "instrumentalness    float64\n",
       "speechiness         float64\n",
       "dtype: object"
      ]
     },
     "execution_count": 4,
     "metadata": {},
     "output_type": "execute_result"
    }
   ],
   "source": [
    "dfspeechinst.dtypes"
   ]
  },
  {
   "cell_type": "markdown",
   "metadata": {},
   "source": [
    "The analyzing of these two types allows me to determine whether or not determine their correlation or if I can plot them on a graph, and it looks like I can."
   ]
  },
  {
   "cell_type": "code",
   "execution_count": 5,
   "metadata": {},
   "outputs": [
    {
     "data": {
      "text/html": [
       "<div>\n",
       "<style>\n",
       "    .dataframe thead tr:only-child th {\n",
       "        text-align: right;\n",
       "    }\n",
       "\n",
       "    .dataframe thead th {\n",
       "        text-align: left;\n",
       "    }\n",
       "\n",
       "    .dataframe tbody tr th {\n",
       "        vertical-align: top;\n",
       "    }\n",
       "</style>\n",
       "<table border=\"1\" class=\"dataframe\">\n",
       "  <thead>\n",
       "    <tr style=\"text-align: right;\">\n",
       "      <th></th>\n",
       "      <th>instrumentalness</th>\n",
       "      <th>speechiness</th>\n",
       "    </tr>\n",
       "  </thead>\n",
       "  <tbody>\n",
       "    <tr>\n",
       "      <th>instrumentalness</th>\n",
       "      <td>1.000000</td>\n",
       "      <td>-0.155349</td>\n",
       "    </tr>\n",
       "    <tr>\n",
       "      <th>speechiness</th>\n",
       "      <td>-0.155349</td>\n",
       "      <td>1.000000</td>\n",
       "    </tr>\n",
       "  </tbody>\n",
       "</table>\n",
       "</div>"
      ],
      "text/plain": [
       "                  instrumentalness  speechiness\n",
       "instrumentalness          1.000000    -0.155349\n",
       "speechiness              -0.155349     1.000000"
      ]
     },
     "execution_count": 5,
     "metadata": {},
     "output_type": "execute_result"
    }
   ],
   "source": [
    "dfspeechinst.corr()"
   ]
  },
  {
   "cell_type": "markdown",
   "metadata": {},
   "source": [
    "I am unsure if the above data confirms or denies my hypothesis, so I will plot it on a graph."
   ]
  },
  {
   "cell_type": "code",
   "execution_count": 6,
   "metadata": {},
   "outputs": [
    {
     "data": {
      "text/plain": [
       "<function matplotlib.pyplot.show(*args, **kw)>"
      ]
     },
     "execution_count": 6,
     "metadata": {},
     "output_type": "execute_result"
    },
    {
     "data": {
      "image/png": "[encoded data removed]",
      "text/plain": [
       "<matplotlib.figure.Figure at 0x7ff05c198160>"
      ]
     },
     "metadata": {
      "needs_background": "light"
     },
     "output_type": "display_data"
    }
   ],
   "source": [
    "plt.scatter(dfspeechinst.instrumentalness,dfspeechinst.speechiness)\n",
    "plt.xlabel(dfspeechinst.instrumentalness.name)\n",
    "plt.ylabel(dfspeechinst.speechiness.name)\n",
    "plt.show"
   ]
  },
  {
   "cell_type": "markdown",
   "metadata": {},
   "source": [
    "Since the scatterplot has not entirely cleared this matter up either, I will also try a histogram."
   ]
  },
  {
   "cell_type": "code",
   "execution_count": 7,
   "metadata": {},
   "outputs": [
    {
     "data": {
      "image/png": "[encoded data removed]",
      "text/plain": [
       "<matplotlib.figure.Figure at 0x7ff05b9a5550>"
      ]
     },
     "metadata": {
      "needs_background": "light"
     },
     "output_type": "display_data"
    },
    {
     "data": {
      "image/png": "[encoded data removed]",
      "text/plain": [
       "<matplotlib.figure.Figure at 0x7ff05b9a5518>"
      ]
     },
     "metadata": {
      "needs_background": "light"
     },
     "output_type": "display_data"
    }
   ],
   "source": [
    "plt.hist(dfspeechinst.instrumentalness)\n",
    "plt.title('Instrumentalness')\n",
    "plt.show()\n",
    "plt.hist(dfspeechinst.speechiness)\n",
    "plt.title('Speechiness')\n",
    "plt.show()"
   ]
  },
  {
   "cell_type": "markdown",
   "metadata": {},
   "source": [
    "## Conclusion\n",
    "In conclusion, my data doesn't really show any correlation between the so called 'speechiness' and 'instrumentalness' in the songs in my data pool, besides the fact that most of the songs in my data pool had low ratings on both."
   ]
  }
 ],
 "metadata": {
  "kernelspec": {
   "display_name": "Python 3",
   "language": "python",
   "name": "python3"
  },
  "language_info": {
   "codemirror_mode": {
    "name": "ipython",
    "version": 3
   },
   "file_extension": ".py",
   "mimetype": "text/x-python",
   "name": "python",
   "nbconvert_exporter": "python",
   "pygments_lexer": "ipython3",
   "version": "3.5.2"
  }
 },
 "nbformat": 4,
 "nbformat_minor": 2
}
